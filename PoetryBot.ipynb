{
 "cells": [
  {
   "cell_type": "code",
   "execution_count": 2,
   "id": "7c13ea1f",
   "metadata": {
    "scrolled": true
   },
   "outputs": [
    {
     "name": "stdout",
     "output_type": "stream",
     "text": [
      "Requirement already satisfied: pyTelegramBotAPI in c:\\users\\posch\\appdata\\local\\programs\\python\\python310\\lib\\site-packages (4.7.0)Note: you may need to restart the kernel to use updated packages.\n",
      "Requirement already satisfied: requests in c:\\users\\posch\\appdata\\local\\programs\\python\\python310\\lib\\site-packages (from pyTelegramBotAPI) (2.28.1)\n",
      "Requirement already satisfied: urllib3<1.27,>=1.21.1 in c:\\users\\posch\\appdata\\local\\programs\\python\\python310\\lib\\site-packages (from requests->pyTelegramBotAPI) (1.26.12)\n",
      "Requirement already satisfied: idna<4,>=2.5 in c:\\users\\posch\\appdata\\local\\programs\\python\\python310\\lib\\site-packages (from requests->pyTelegramBotAPI) (3.3)\n",
      "Requirement already satisfied: certifi>=2017.4.17 in c:\\users\\posch\\appdata\\local\\programs\\python\\python310\\lib\\site-packages (from requests->pyTelegramBotAPI) (2022.6.15.1)\n",
      "Requirement already satisfied: charset-normalizer<3,>=2 in c:\\users\\posch\\appdata\\local\\programs\\python\\python310\\lib\\site-packages (from requests->pyTelegramBotAPI) (2.1.1)\n",
      "\n"
     ]
    },
    {
     "name": "stderr",
     "output_type": "stream",
     "text": [
      "WARNING: Ignoring invalid distribution -ywin32 (c:\\users\\posch\\appdata\\local\\programs\\python\\python310\\lib\\site-packages)\n",
      "WARNING: Ignoring invalid distribution -ywin32 (c:\\users\\posch\\appdata\\local\\programs\\python\\python310\\lib\\site-packages)\n",
      "WARNING: Ignoring invalid distribution -ywin32 (c:\\users\\posch\\appdata\\local\\programs\\python\\python310\\lib\\site-packages)\n",
      "WARNING: Ignoring invalid distribution -ywin32 (c:\\users\\posch\\appdata\\local\\programs\\python\\python310\\lib\\site-packages)\n",
      "WARNING: Ignoring invalid distribution -ywin32 (c:\\users\\posch\\appdata\\local\\programs\\python\\python310\\lib\\site-packages)\n",
      "WARNING: Ignoring invalid distribution -ywin32 (c:\\users\\posch\\appdata\\local\\programs\\python\\python310\\lib\\site-packages)\n"
     ]
    }
   ],
   "source": [
    "pip install pyTelegramBotAPI"
   ]
  },
  {
   "cell_type": "code",
   "execution_count": 3,
   "id": "afb108fc",
   "metadata": {},
   "outputs": [],
   "source": [
    "import telebot"
   ]
  },
  {
   "cell_type": "code",
   "execution_count": 4,
   "id": "430caa8c",
   "metadata": {},
   "outputs": [],
   "source": [
    "from telebot import types"
   ]
  },
  {
   "cell_type": "code",
   "execution_count": 5,
   "id": "c6bb28c9",
   "metadata": {},
   "outputs": [],
   "source": [
    "bot = telebot.TeleBot('5396416303:AAGEOFsKFdySH1jMNvVqVCuADIUKYZDxP9E')"
   ]
  },
  {
   "cell_type": "code",
   "execution_count": 6,
   "id": "3c3f88cd",
   "metadata": {},
   "outputs": [],
   "source": [
    "@bot.message_handler(commands=['start'])\n",
    "def start(message):\n",
    "    mess = f'О небо, небо, ты мне будешь сниться... Привет, {message.from_user.first_name}. Введи число от 1 до 11, чтобы прочитать стихотворение из цикла \"Восьмистишия\"(1933-1935гг). Чтобы почитать на Арзамасе про Мандельштама-шутника, введи /website'\n",
    "    bot.send_message(message.chat.id, mess, parse_mode='html')"
   ]
  },
  {
   "cell_type": "code",
   "execution_count": 7,
   "id": "33297b8d",
   "metadata": {},
   "outputs": [],
   "source": [
    "@bot.message_handler(commands=['website'])\n",
    "def website(message):\n",
    "    markup = types.InlineKeyboardMarkup()\n",
    "    markup.add(types.InlineKeyboardButton('Почитать анекдоты на Арзамасе', url='https://arzamas.academy/materials/948'))\n",
    "    bot.send_message(message.chat.id, \"Перейти на сайт\", reply_markup=markup)"
   ]
  },
  {
   "cell_type": "code",
   "execution_count": 8,
   "id": "3e9e3d1a",
   "metadata": {},
   "outputs": [],
   "source": [
    "@bot.message_handler(commands=['help'])\n",
    "def website(message):\n",
    "    markup = types.ReplyKeyboardMarkup(resize_keyboard=True, row_width=1)\n",
    "    website = types.KeyboardButton('/website')\n",
    "    start = types.KeyboardButton('/start')\n",
    "    markup.add(website, start)\n",
    "    bot.send_message(message.chat.id, \"Выбери действие\", reply_markup=markup)"
   ]
  },
  {
   "cell_type": "code",
   "execution_count": 9,
   "id": "b4d669cc",
   "metadata": {},
   "outputs": [],
   "source": [
    "@bot.message_handler()\n",
    "def get_user_text(message):\n",
    "    if message.text == '1':\n",
    "        bot.send_message(message.chat.id, \"\"\" \n",
    "               I\n",
    "            \n",
    "            Люблю появление ткани, \n",
    "            Когда после двух или трех,\n",
    "            А то четырех задыханий\n",
    "            Придет выпрямительный вздох --\n",
    "            И дугами парусных гонок\n",
    "            Открытые формы чертя,\n",
    "            Играет пространство спросонок --\n",
    "            Не знавшее люльки дитя.\n",
    "            \n",
    "            [Ноябрь 1933, Москва -- Июль 1935, Воронеж]\"\"\")\n",
    "    if message.text == '2':\n",
    "        bot.send_message(message.chat.id, \"\"\"\n",
    "               II [Вариант]\n",
    "            \n",
    "            Люблю появление ткани,\n",
    "            Когда после двух или трех,\n",
    "            А то четырех задыханий\n",
    "            Придет выпрямительный вздох --\n",
    "            И так хорошо мне и тяжко,\n",
    "            Когда приближается миг --\n",
    "            И вдруг дуговая растяжка\n",
    "            Звучит в бормотаньях моих\n",
    "            \n",
    "            [Ноябрь 1933, Москва]\"\"\")\n",
    "    if message.text == '3':\n",
    "        bot.send_message(message.chat.id, \"\"\"\n",
    "               III\n",
    "            \n",
    "            О, бабочка, о, мусульманка,\n",
    "            В разрезанном саване вся --\n",
    "            Жизняночка и умиранка,\n",
    "            Такая большая, сия!\n",
    "            С большими усами кусава\n",
    "            Ушла с головою в бурнус.\n",
    "            О, флагом развернутый саван, --\n",
    "            Сложи свои крылья -- боюсь!\n",
    "            \n",
    "            [Ноябрь 1933, Москва]\"\"\")\n",
    "    if message.text == '4':\n",
    "        bot.send_message(message.chat.id, \"\"\"\n",
    "               IV\n",
    "            \n",
    "            Шестого чувства крохотный придаток\n",
    "            Иль ящерицы теменной глазок,\n",
    "            Монастыри улиток и створчаток,\n",
    "            Мерцающих ресничек говорок.\n",
    "            Недостижимое, как это близко!\n",
    "            Ни развязать нельзя, ни посмотреть, --\n",
    "            Как будто в руку вложена записка\n",
    "            И на нее немедленно ответь.\n",
    "            \n",
    "            [Май 1932, Москва]\"\"\")\n",
    "    if message.text == '5':\n",
    "        bot.send_message(message.chat.id, \"\"\"\n",
    "               V\n",
    "            \n",
    "            Преодолев затверженность природы,\n",
    "            Голуботвердый глаз проник в ее закон,\n",
    "            В земной коре юродствуют породы,\n",
    "            И как руда из груди рвется стон.\n",
    "            И тянется глухой недоразвиток,\n",
    "            Как бы дорогой, согнутою в рог, --\n",
    "            Понять пространства внутренний избыток\n",
    "            И лепестка и купола залог.\n",
    "            \n",
    "            [Январь 1934, Москва]\"\"\")\n",
    "    if message.text == '6':\n",
    "        bot.send_message(message.chat.id, \"\"\"\n",
    "               VI\n",
    "            \n",
    "            Когда, уничтожив набросок,\n",
    "            Ты держишь прилежно в уме\n",
    "            Период без тягостных сносок,\n",
    "            Единый во внутренней тьме, --\n",
    "            И он лишь на собственной тяге,\n",
    "            Зажмурившись, держится сам --\n",
    "            Он так же отнесся к бумаге,\n",
    "            Как купол к пустым небесам.\n",
    "            \n",
    "            [Ноябрь 1933, Москва]\"\"\")\n",
    "    if message.text == '7':\n",
    "        bot.send_message(message.chat.id, \"\"\"\n",
    "               VII\n",
    "            \n",
    "            И Шуберт на воде, и Моцарт в птичьем гаме,\n",
    "            И Гёте, свищущий на вьющейся тропе,\n",
    "            И Гамлет, мысливший пугливыми шагами,\n",
    "            Считали пульс толпы и верили толпе.\n",
    "            Быть может, прежде губ уже родился шопот\n",
    "            И в бездревесности кружилися листы,\n",
    "            И те, кому мы посвящаем опыт,\n",
    "            До опыта приобрели черты.\n",
    "            \n",
    "            [Январь 1934, Москва]\"\"\")\n",
    "    if message.text == '8':\n",
    "        bot.send_message(message.chat.id, \"\"\"\n",
    "               VIII\n",
    "               \n",
    "            И клена зубчатая лапа\n",
    "            Купается в круглых углах,\n",
    "            И можно из бабочек крапа\n",
    "            Рисунки слагать на стенах.\n",
    "            Бывают мечети живые,\n",
    "            И я догадался сейчас:\n",
    "            Быть может, мы -- Айя-София\n",
    "            С бесчисленным множеством глаз.\n",
    "            \n",
    "            [Ноябрь 1933-январь 1934, Москва]\"\"\")\n",
    "    if message.text == '9':\n",
    "        bot.send_message(message.chat.id, \"\"\"\n",
    "               IX\n",
    "               \n",
    "            Скажи мне, чертежник пустыни,\n",
    "            Сыпучих песков геометр,\n",
    "            Ужели безудержность линий\n",
    "            Сильнее, чем дующий ветр?\n",
    "            -- Меня не касается трепет\n",
    "            Его иудейских забот --\n",
    "            Он опыт из лепета лепит\n",
    "            И лепет из опыта пьет.\n",
    "            [Ноябрь 1933, Москва]\"\"\")\n",
    "    if message.text == '10':\n",
    "        bot.send_message(message.chat.id, \"\"\"\n",
    "               X\n",
    "               \n",
    "            В игольчатых, чумных бокалах\n",
    "            Мы пьем наважденье причин,\n",
    "            Касаемся крючьями малых,\n",
    "            Как легкая смерть, величин.\n",
    "            И там, где сцепились бирюльки,\n",
    "            Ребенок молчанье хранит --\n",
    "            Большая вселенная в люльке\n",
    "            У маленькой вечности спит.\n",
    "              \n",
    "            [Ноябрь 1933, Москва]\"\"\")\n",
    "    if message.text == '11':\n",
    "        bot.send_message(message.chat.id, \"\"\"\n",
    "               XI\n",
    "                \n",
    "            И я выхожу из пространства\n",
    "            В запущенный сад величин,\n",
    "            И мнимое рву постоянство\n",
    "            И самосознанье причин.\n",
    "            И твой бесконечный учебник\n",
    "            Читаю один, без людей --\n",
    "            Безлиственный, дикий лечебник, --\n",
    "            Задачник огромных корней.\n",
    "            \n",
    "            [Ноябрь 1933, Москва]\"\"\")"
   ]
  },
  {
   "cell_type": "code",
   "execution_count": 10,
   "id": "6ca282d4",
   "metadata": {},
   "outputs": [],
   "source": [
    "bot.polling(none_stop=True)"
   ]
  },
  {
   "cell_type": "code",
   "execution_count": null,
   "id": "84c1eac7",
   "metadata": {},
   "outputs": [],
   "source": []
  },
  {
   "cell_type": "code",
   "execution_count": null,
   "id": "c883df5b",
   "metadata": {},
   "outputs": [],
   "source": []
  },
  {
   "cell_type": "code",
   "execution_count": null,
   "id": "d4fb68e2",
   "metadata": {},
   "outputs": [],
   "source": []
  },
  {
   "cell_type": "code",
   "execution_count": null,
   "id": "4b6daf48",
   "metadata": {},
   "outputs": [],
   "source": []
  }
 ],
 "metadata": {
  "kernelspec": {
   "display_name": "Python 3 (ipykernel)",
   "language": "python",
   "name": "python3"
  },
  "language_info": {
   "codemirror_mode": {
    "name": "ipython",
    "version": 3
   },
   "file_extension": ".py",
   "mimetype": "text/x-python",
   "name": "python",
   "nbconvert_exporter": "python",
   "pygments_lexer": "ipython3",
   "version": "3.10.6"
  }
 },
 "nbformat": 4,
 "nbformat_minor": 5
}
